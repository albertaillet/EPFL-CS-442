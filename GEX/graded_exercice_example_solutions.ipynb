{
 "cells": [
  {
   "cell_type": "markdown",
   "metadata": {},
   "source": [
    "# Graded Exercise Session: Circular Hough Transform"
   ]
  },
  {
   "cell_type": "markdown",
   "metadata": {},
   "source": [
    "The circular Hough Transform can be used to detect circles in edge images. It is very\n",
    "similar to the linear Hough Transform, with the difference that there is one parameter\n",
    "more to take into account: circle radius.\n",
    "\n",
    "Assume we are given a pair of an original gray-scale image ```I[y, x]``` and a corresponding\n",
    "edge image `edge_I[y, x]`, of size $H \\times W$, such that $0 ≤ y < H$ and $0 ≤ x < W$. Every\n",
    "pixel of the edge image has logical value equal to 255 if the corresponding pixel of\n",
    "the original image belongs to an edge, and 0 otherwise.\n",
    "\n",
    "In this exercise you are asked to implement a version of Hough transform for detecting\n",
    "circles. A circle can be represented in the following way:\n",
    "\n",
    "\\begin{equation*}\n",
    "(x − x_c)^2 + (y − y_c)^2 = r^2, \\hspace{0.5cm} 0 ≤ x_c < W, \\hspace{0.5cm} 0 ≤ y_c < H, \\hspace{0.5cm} \\hspace{0.5cm} (1.1)\n",
    "\\end{equation*}\n",
    "\n",
    "where $(y, x)$ are pixel coordinates in the edge image `edge_I`, and $(y_c, x_c, r)$ are the\n",
    "parameters of the model corresponding to the y- and x- coordinates of the center of the circle and its radius respectively.\n",
    "<p></p>\n",
    "If the radius of the circle to be found is fixed, then the parameter space is reduced to\n",
    "2-d. Each point $(y, x)$ on the original circle (in the image space) defines a circle centered\n",
    "at $(y, x)$ with radius $r$. The intersection point of all such circles in the\n",
    "parameter space corresponds to the center point $(y_c, x_c)$ of the original circle on the\n",
    "image space. An example is shown below.\n",
    "\n",
    "<img src=\"images/hough.png\">\n",
    "Figure 1. In order to find the center of the blue circle, green circles centered at four edge points vote for the blue circle center $(y_c, x_c)$.\n",
    "<p></p>\n",
    "An accumulator matrix is used to find the intersection point in the parameter space. For a fixed radius, the accumulator array is a 2-D matrix, whose\n",
    "    rows and columns correspond to different values of parameters of $y_c$ and $x_c$ respectively. This matrix is filled by passing through every edge point, formulating a circle centered at that point in\n",
    "the parameter space and increasing the voting number of all the cells/pixels through which the new\n",
    "circle passes. The number of “votes” in each element in the accumulator matrix denotes the number of circles in \n",
    "the parameter space that pass through the corresponding cell. \n",
    "<p></p>\n",
    "After voting, we compute local maxima of the accumulator array. The positions of these\n",
    "maxima correspond to the circle centers $(y_c, x_c)$ in the original image space.\n"
   ]
  },
  {
   "cell_type": "code",
   "execution_count": null,
   "metadata": {},
   "outputs": [],
   "source": [
    "import numpy as np\n",
    "import matplotlib.pyplot as plt\n",
    "from matplotlib.patches import Circle\n",
    "import math\n",
    "from skimage.feature import peak_local_max\n",
    "import cv2"
   ]
  },
  {
   "cell_type": "markdown",
   "metadata": {
    "collapsed": true
   },
   "source": [
    "### Q1. Creating Accumulator Array"
   ]
  },
  {
   "cell_type": "markdown",
   "metadata": {},
   "source": [
    "* Implement a function ```accum = CircleHough(edge_I,r)``` as described below.\n",
    "\n",
    "#### Inputs\n",
    "\n",
    "- ```edge_I```: - edge image of size $H \\times W $ with values 255 for edge pixels and 0 for non-edge pixels\n",
    "- ```r```: - radius of the circle we want to detect\n",
    "\n",
    "#### Outputs\n",
    "- ```accum```: 2-d accumulator array of size $H \\times W $ storing votes for every possible circle centre in the image\n",
    "\n",
    "#### Proposed Steps.\n",
    "<b>Note:</b> the proposed steps are only suggestion and you can implement the following functions however you wish to.\n",
    "\n",
    "* Initialize the accumulator array with zeros.\n",
    "* Find the set of coordinates $\\{(y_e, x_e)\\}$ of edge points in ```edge_I``` (tip: you can use function ```np.where(edge_I)``` )\n",
    "* Implement a loop that does the following:\n",
    "    * $\\forall x \\in \\{x_e\\}$ compute left and right boundaries $(x_l, x_r)$ of the circle to be investigated from $x$ and $r$\n",
    "    * $\\forall x_c \\in [ x_l,x_r ]$ compute $y_{c1}, y_{c2}$ using Eq. 1.1\n",
    "    * increment ```accum``` at positions $(y_{c1},x_c)$ and $(y_{c2},x_c)$ if they are within image boundaries and ignore them otherwise\n",
    "\n",
    "    "
   ]
  },
  {
   "cell_type": "code",
   "execution_count": null,
   "metadata": {},
   "outputs": [],
   "source": [
    "def CircleHough(edge_I,r):\n",
    "    accum = np.zeros(edge_I.shape)\n",
    "    edge_points = np.where(edge_I)\n",
    "    for (i,j) in [(y,x) for y,x in zip(edge_points[0],edge_points[1])]:\n",
    "        xmin = j-r\n",
    "        xmax = j+r\n",
    "        for xc in range(xmin,xmax+1):\n",
    "            if (xc>=0 and xc<edge_I.shape[1]):\n",
    "                yc1 = math.sqrt(r*r - (j-xc)*(j-xc))\n",
    "                yc1 = -(yc1-i)\n",
    "                yc2 = -math.sqrt(r*r - (j-xc)*(j-xc))\n",
    "                yc2 = -(yc2-i)\n",
    "                if (yc1>=0 and yc1<edge_I.shape[0]-1):\n",
    "                    accum[int(yc1),xc] = accum[int(yc1),xc]+1\n",
    "                if (yc2>=0 and yc2<edge_I.shape[0]-1):\n",
    "                    accum[int(yc2),xc] = accum[int(yc2),xc]+1\n",
    "    return accum    "
   ]
  },
  {
   "cell_type": "markdown",
   "metadata": {},
   "source": [
    "* Below you can find the code to read the image and compute edges, you do not have to change it. Use ```edges``` image in the following exercises."
   ]
  },
  {
   "cell_type": "code",
   "execution_count": null,
   "metadata": {},
   "outputs": [],
   "source": [
    "img = cv2.imread('images/coins.png',0)\n",
    "edges = cv2.Canny(img,200,400)\n",
    "plt.imshow(img, cmap='gray')\n",
    "plt.show()\n",
    "plt.imshow(edges, cmap='magma')\n",
    "plt.show()"
   ]
  },
  {
   "cell_type": "markdown",
   "metadata": {},
   "source": [
    "\n",
    "* Compute and visualize accumulator arrays for the given ```edges``` image and $r_1 = 25$ and $r_2 = 30$. What is the visual difference between them and what is the reason for that? "
   ]
  },
  {
   "cell_type": "code",
   "execution_count": null,
   "metadata": {},
   "outputs": [],
   "source": [
    "accumulator_array_1 = CircleHough(edges,25)\n",
    "accumulator_array_2 = CircleHough(edges,30)\n",
    "plt.imshow(accumulator_array_1)\n",
    "plt.figure()\n",
    "plt.imshow(accumulator_array_2)\n",
    "plt.show()"
   ]
  },
  {
   "cell_type": "markdown",
   "metadata": {},
   "source": [
    "The accumulators detect circles of different radii - the first one detects smaller circles, while the second one larger. This is why the maxima in two differ."
   ]
  },
  {
   "cell_type": "markdown",
   "metadata": {},
   "source": [
    "### Q2. Detect Circles\n",
    "Implement ```DetectCircles(edge_I,radii,thres)``` function as described below and compute the coordinates of the coin centers.\n",
    "\n",
    "#### Input parameters\n",
    "- ```edge_I```: The edge image computed using the Canny Edge Detector (already computed in the above section)\n",
    "- ```radii```: List of radius values that you want to detect in the image. eg: radii = [21,23,25] \n",
    "- ```thres```: Threshold used for thresholding the local maxima in accumulator array. It's the minimum intensity of the peaks. \n",
    "\n",
    "#### Output\n",
    "- The outputs are the two dictionaries ```y_c``` and ```x_c``` containing y- and x- coordinates of detected circles centers. See final step for more details. <b>Note</b> Instead of two dictionaries you can output also two arrays or two lists with corresponding radius.\n",
    "\n",
    "#### Proposed Steps\n",
    "Implement a loop such that for each radius value ```r``` in the radius range ```radii```, it does the following:\n",
    "- Compute accumulator array for the edge image ```edge_I``` at radius ```r``` using function ```CircleHough```\n",
    "- Find the local maxima that has peaks in the current accumulator array greater than the given threshold. You can use the function ```peak_local_max``` for this task. ***Hint***: you can use ```min_distance=20``` in the ```peak_local_max``` function.\n",
    "- Store the x,y coordinates of the computed local maxima in x_c, y_c and return them as output from the function. ***Hint***: Use dictionaries for x_c and y_c.  \n",
    "Sample code,\n",
    "    * ```x_c = dict() #Initialize dictionary x_c``` \n",
    "    * ```x_c[r] = x_coordinates_of_centers_you_computed_at_radius_r # we are assigning a list of x-coordinates to x_c[r] ``` "
   ]
  },
  {
   "cell_type": "code",
   "execution_count": null,
   "metadata": {},
   "outputs": [],
   "source": [
    "def DetectCircles(edges,radii,thres):\n",
    "    x_c = dict()\n",
    "    y_c = dict()\n",
    "    for r in radii:\n",
    "        \n",
    "        # Compute accum array for radius r\n",
    "        accum = CircleHough(edges,r)\n",
    "        \n",
    "        # Compute local maxima locations\n",
    "        yx = peak_local_max(accum, min_distance=20,threshold_abs=thres)\n",
    "\n",
    "        # store the results in the output dictionary\n",
    "        y_c[r] = yx[:,0]\n",
    "        x_c[r] = yx[:,1]\n",
    "        \n",
    "\n",
    "    return y_c,x_c\n",
    "\n",
    "radii = range(20,30);\n",
    "thres = 48\n",
    "y_c, x_c = DetectCircles(edges, radii,thres)\n",
    "\n",
    "for r in y_c:\n",
    "    print('\\nradius- ' + str(r) + ': ',end='')\n",
    "    for y,x in zip(y_c[r],x_c[r]):\n",
    "        print(' (' + str(y) + ' ' + str(x) + ') ',end='')"
   ]
  },
  {
   "cell_type": "markdown",
   "metadata": {},
   "source": [
    "### Q3. Visualization\n",
    "To evaluate the approach we want to visualize the results. To this end implement a function ```ShowCircles(I,radii,x_c,y_c)``` as described below.\n",
    "#### Inputs\n",
    "- ```I```: original image\n",
    "- ```radii```: a list of radii range\n",
    "- ```x_c y_c ```: detected centers of circles\n",
    "\n",
    "#### Proposed Steps\n",
    "Implement a loop such that for each radius value ```r``` in the radius range ```radii``` does the following:\n",
    "- Fetch the array of center points corresponding to the radius value ```r``` (e.g. ```x_c[r] and y_c[r]``` if you're using a dictionary).\n",
    "- For each center point (cy, cx) in that array draw a circle with the corresponding radius ```r```\n",
    "- Option 1: The set of points on the circle can be written as (cy+r∗sin(θ), cx+r∗cos(θ)). To reconstruct a circle iterate over theta values in range ```np.arange(0, 2*math.pi+1, 0.01)``` and for each point on the circle and the center point set the corresposing pixel value to white (255) to illustrate the circle. Functions ```math.sin()``` and ```math.cos()``` can be also useful.\n",
    "- Option 2: If you are familiar with ```matplotlib```, you can create a figure using ```fig, ax = plt.subplots()``` and then you can define a circle using ```plt.Circle```. Finally you can add this circle to your figure using ```ax.add_patch()```. "
   ]
  },
  {
   "cell_type": "code",
   "execution_count": null,
   "metadata": {},
   "outputs": [],
   "source": [
    "def ShowCircles(I,radii,x_c,y_c):\n",
    "    img = I.copy()\n",
    "    fig,ax = plt.subplots(1)\n",
    "    plt.axis('off')\n",
    "    colormap='gist_rainbow'\n",
    "    for r in radii:\n",
    "        try:\n",
    "            x_c_rad = x_c[r]\n",
    "            y_c_rad = y_c[r]\n",
    "            centers = list(zip(x_c_rad, y_c_rad))\n",
    "            all_center_len = len(centers)\n",
    "            for (cx, cy) in ([(x, y) for x,y in centers]):\n",
    "                theta_range = np.arange(0, 2*math.pi+1, 0.01)\n",
    "                for theta in theta_range:\n",
    "                    circ_point_x = int(cx + r*math.cos(theta))\n",
    "                    circ_point_y = int(cy + r*math.sin(theta))\n",
    "                    img[circ_point_y, circ_point_x] = 255\n",
    "                img[cy, cx] = 255\n",
    "        except KeyError:\n",
    "            continue\n",
    "    plt.gray()\n",
    "    ax.imshow(img)\n",
    "    plt.show()"
   ]
  },
  {
   "cell_type": "code",
   "execution_count": null,
   "metadata": {},
   "outputs": [],
   "source": [
    "def ShowCircles2(I,radii,x_c,y_c):\n",
    "    img = I.copy()\n",
    "    fig,ax = plt.subplots(1)\n",
    "    plt.axis('off')\n",
    "    colormap='gist_rainbow'\n",
    "    for r in radii:\n",
    "        try:\n",
    "            x_c_rad = x_c[r]\n",
    "            y_c_rad = y_c[r]\n",
    "            centers = list(zip(x_c_rad, y_c_rad))\n",
    "            all_center_len = len(centers)\n",
    "            for (cx, cy) in ([(x, y) for x,y in centers]):\n",
    "                color_circ = 'r'\n",
    "                circ = Circle((cx, cy),r, color=color_circ, fill=False)\n",
    "                ax.add_patch(circ)\n",
    "                ax.plot([cx], [cy], 'ro',color=color_circ, mew=2, ms=4)\n",
    "        except KeyError:\n",
    "            continue\n",
    "    plt.gray()\n",
    "    ax.imshow(img)\n",
    "    plt.show()"
   ]
  },
  {
   "cell_type": "markdown",
   "metadata": {},
   "source": [
    "* Now apply your implementation to the image in Figure 1 (left). In Figure 1 (right) we show a\n",
    "representative result of applying the circular Hough transform. The figure on the right is obtained by using ```matplotlib``` functions in Option 2. The illustration of the circles might change depending on your visualization code. <b>Note</b> If you did not manage to complete the previous exercises uncomment the two first lines in the next cell. They will load precomputed centers, so that you can check your answer."
   ]
  },
  {
   "cell_type": "markdown",
   "metadata": {},
   "source": [
    "<figure>\n",
    "  <img src=\"images/coins.png\" width=\"278\" height=\"270\" style=\"float: left;margin: 10px 90px 0px 90px; \" />\n",
    "    <img src=\"images/coins_result.png\" width=\"328\" height=\"328\" style=\"float: center; margin: -20px 0px 0px 0px; \"/>\n",
    "   \n",
    "<!--     <figcaption style=\"float: center; margin: 0px 0px 5px 200px;\">\n",
    "        </figcaption> -->\n",
    "    Figure 1: Original image (left). Result of applying the circular Hough transform (right).\n",
    "</figure>"
   ]
  },
  {
   "cell_type": "code",
   "execution_count": null,
   "metadata": {},
   "outputs": [],
   "source": [
    "#Uncomment those lines if you did not manage to complete the previous exercises\n",
    "#x_c  = np.load('x_center.npy').item()\n",
    "#y_c = np.load('y_center.npy').item()\n",
    "ShowCircles(img,radii,x_c,y_c)\n",
    "ShowCircles2(img, radii, x_c, y_c)"
   ]
  },
  {
   "cell_type": "code",
   "execution_count": null,
   "metadata": {},
   "outputs": [],
   "source": []
  }
 ],
 "metadata": {
  "kernelspec": {
   "display_name": "Python 3 (ipykernel)",
   "language": "python",
   "name": "python3"
  },
  "language_info": {
   "codemirror_mode": {
    "name": "ipython",
    "version": 3
   },
   "file_extension": ".py",
   "mimetype": "text/x-python",
   "name": "python",
   "nbconvert_exporter": "python",
   "pygments_lexer": "ipython3",
   "version": "3.8.12"
  }
 },
 "nbformat": 4,
 "nbformat_minor": 2
}
